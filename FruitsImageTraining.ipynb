{
  "nbformat": 4,
  "nbformat_minor": 0,
  "metadata": {
    "colab": {
      "provenance": [],
      "collapsed_sections": [
        "ef_d086RK5M4"
      ],
      "include_colab_link": true
    },
    "kernelspec": {
      "name": "python3",
      "display_name": "Python 3"
    },
    "language_info": {
      "name": "python"
    },
    "accelerator": "GPU"
  },
  "cells": [
    {
      "cell_type": "markdown",
      "metadata": {
        "id": "view-in-github",
        "colab_type": "text"
      },
      "source": [
        "<a href=\"https://colab.research.google.com/github/Phatdat01/FruitsRecognition/blob/main/FruitsImageTraining.ipynb\" target=\"_parent\"><img src=\"https://colab.research.google.com/assets/colab-badge.svg\" alt=\"Open In Colab\"/></a>"
      ]
    },
    {
      "cell_type": "markdown",
      "source": [
        "## Notice:\n",
        "Firstly make sure your images data is accepted:\n",
        "https://stackoverflow.com/questions/64531236/unidentifiedimageerror-when-training-a-model-using-tf-imagegenerator"
      ],
      "metadata": {
        "id": "w_98g0kCExfY"
      }
    },
    {
      "cell_type": "markdown",
      "source": [
        "# Repair"
      ],
      "metadata": {
        "id": "gFEcglj4FDEM"
      }
    },
    {
      "cell_type": "code",
      "execution_count": null,
      "metadata": {
        "id": "5ug9DfnjDGHD",
        "colab": {
          "base_uri": "https://localhost:8080/"
        },
        "outputId": "60a552eb-dfe9-47ea-c1ab-b7181adb14b5"
      },
      "outputs": [
        {
          "output_type": "stream",
          "name": "stdout",
          "text": [
            "Mounted at /content/drive\n"
          ]
        }
      ],
      "source": [
        "# Link to drive\n",
        "from google.colab import drive\n",
        "drive.mount('/content/drive')"
      ]
    },
    {
      "cell_type": "code",
      "source": [
        "# Download TF Object Detection APi, tool for training\n",
        "%cd /content\n",
        "!git clone https://github.com/tensorflow/models.git"
      ],
      "metadata": {
        "id": "rCbYoLJZDT81"
      },
      "execution_count": null,
      "outputs": []
    },
    {
      "cell_type": "code",
      "source": [
        "# Compile the protos -  \n",
        "# Protocol Buffers (Protobuf) is a free and open-source cross-platform data format used to serialize structured data.\n",
        "%cd /content/models/research\n",
        "!protoc object_detection/protos/*.proto --python_out=."
      ],
      "metadata": {
        "colab": {
          "base_uri": "https://localhost:8080/"
        },
        "id": "RIlG4nJFDWTX",
        "outputId": "5357bc42-30bf-44fe-adea-222b0a7c819d"
      },
      "execution_count": null,
      "outputs": [
        {
          "output_type": "stream",
          "name": "stdout",
          "text": [
            "/content/models/research\n"
          ]
        }
      ]
    },
    {
      "cell_type": "code",
      "source": [
        "# Install TF_OJ_API\n",
        "%cd /content/models/research\n",
        "!cp object_detection/packages/tf2/setup.py . \n",
        "!python -m pip install .\n"
      ],
      "metadata": {
        "id": "ZLtM_UbdDY4m"
      },
      "execution_count": null,
      "outputs": []
    },
    {
      "cell_type": "code",
      "source": [
        "## Install tensorflow \n",
        "!pip install tensorflow==2.8\n",
        "!apt install --allow-change-held-packages libcudnn8=8.1.0.77-1+cuda11.2"
      ],
      "metadata": {
        "id": "M8Sn6gN1M4jW"
      },
      "execution_count": null,
      "outputs": []
    },
    {
      "cell_type": "code",
      "source": [
        "# Test API\n",
        "%cd /content/models/research\n",
        "!python object_detection/builders/model_builder_tf2_test.py"
      ],
      "metadata": {
        "id": "eORC_zxkDay1"
      },
      "execution_count": null,
      "outputs": []
    },
    {
      "cell_type": "markdown",
      "source": [
        "## Download some files, data for training"
      ],
      "metadata": {
        "id": "C9dP6tFJK8KB"
      }
    },
    {
      "cell_type": "code",
      "source": [
        "# Download some file, all of them are edited, this is some files and data for training\n",
        "%cd /content\n",
        "!gdown 1jcFpqey6etc2fTxFQJaJdy9yVP7vyavs\n",
        "!gdown 1aLtrm_nkoI_VBiwcP7PYnSfAI0sDXduD\n",
        "!gdown 16ULnotRnmOj7g2o6z3ytfrE0CXjz1NB2"
      ],
      "metadata": {
        "id": "YAKfendszDsB"
      },
      "execution_count": null,
      "outputs": []
    },
    {
      "cell_type": "code",
      "source": [
        "# Extract\n",
        "%cd /content\n",
        "!pip install patool\n",
        "\n",
        "import patoolib\n",
        "import os\n",
        "import shutil\n",
        "!mkdir /content/pretrained\n",
        "\n",
        "patoolib.extract_archive(\"images.rar\", outdir=\"/content\")\n",
        "os.remove(\"images.rar\")\n",
        "patoolib.extract_archive(\"Video.rar\", outdir=\"/content/pretrained\")\n",
        "os.remove(\"Video.rar\")"
      ],
      "metadata": {
        "id": "DPEhjJLEzrmF"
      },
      "execution_count": null,
      "outputs": []
    },
    {
      "cell_type": "markdown",
      "source": [
        "## Or you can make by yourself"
      ],
      "metadata": {
        "id": "S8q8c2nKLIKY"
      }
    },
    {
      "cell_type": "markdown",
      "source": [
        "create labels: see /content/pretrained/annotations/label_map.pbtxt"
      ],
      "metadata": {
        "id": "wZZaCWkySDfl"
      }
    },
    {
      "cell_type": "markdown",
      "source": [
        "Create record"
      ],
      "metadata": {
        "id": "-7VtAe6CSAVp"
      }
    },
    {
      "cell_type": "code",
      "source": [
        "# Download file generate_tfrecord.py, this help your path list of image to a record file\n",
        "%cd /content\n",
        "!wget https://tensorflow-object-detection-api-tutorial.readthedocs.io/en/latest/_downloads/da4babe668a8afb093cc7776d7e630f3/generate_tfrecord.py"
      ],
      "metadata": {
        "id": "GDafpVzSMWlA"
      },
      "execution_count": null,
      "outputs": []
    },
    {
      "cell_type": "code",
      "source": [
        "# 8. create record, it's in /content/pretrained/annotations/\n",
        "%cd /content\n",
        "!python generate_tfrecord.py -x /content/images/train -l /content/pretrained/annotations/label_map.pbtxt -o /content/pretrained/annotations/train.record\n",
        "!python generate_tfrecord.py -x /content/images/test -l /content/pretrained/annotations/label_map.pbtxt -o /content/pretrained/annotations/test.record\n"
      ],
      "metadata": {
        "id": "y4LIG_fvDdc_"
      },
      "execution_count": null,
      "outputs": []
    },
    {
      "cell_type": "markdown",
      "source": [
        "Download config file vs pretrain"
      ],
      "metadata": {
        "id": "tzOc-cQ_ScVP"
      }
    },
    {
      "cell_type": "code",
      "source": [
        "%cd /content/pretrained\n",
        "\n",
        "!wget http://download.tensorflow.org/models/object_detection/tf2/20200711/ssd_mobilenet_v2_fpnlite_320x320_coco17_tpu-8.tar.gz\n",
        "# Unzip\n",
        "!tar -xzvf ssd_mobilenet_v2_fpnlite_320x320_coco17_tpu-8.tar.gz\n",
        "!rm ssd_mobilenet_v2_fpnlite_320x320_coco17_tpu-8.tar.gz\n",
        "!mv ssd_mobilenet_v2_fpnlite_320x320_coco17_tpu-8/checkpoint .\n",
        "!mv ssd_mobilenet_v2_fpnlite_320x320_coco17_tpu-8/pipeline.config /content\n",
        "!rm -rf ssd_mobilenet_v2_fpnlite_320x320_coco17_tpu-8"
      ],
      "metadata": {
        "id": "1pmrdySxDhxJ"
      },
      "execution_count": null,
      "outputs": []
    },
    {
      "cell_type": "markdown",
      "source": [
        "reconfigure config file: by yourself"
      ],
      "metadata": {
        "id": "-EKyoEFbVdw1"
      }
    },
    {
      "cell_type": "markdown",
      "source": [
        "# Training"
      ],
      "metadata": {
        "id": "PHV6xg9lS27-"
      }
    },
    {
      "cell_type": "markdown",
      "source": [
        "Before that, update line 36\n",
        "\n",
        "to\n",
        "\n",
        "tf.keras.optimizers.Adam"
      ],
      "metadata": {
        "id": "dAWMkMvqaPyp"
      }
    },
    {
      "cell_type": "code",
      "source": [
        "!mkdir /content/pretrained/pretrained\n",
        "%cd /content/models/research/object_detection\n",
        "#train \n",
        "!python model_main_tf2.py \\\n",
        "--pipeline_config_path=/content/pipeline.config \\\n",
        "--model_dir=/content/pretrained/pretrained --num_train_steps=1000"
      ],
      "metadata": {
        "id": "0AuBON5IDmGr"
      },
      "execution_count": null,
      "outputs": []
    },
    {
      "cell_type": "markdown",
      "source": [
        "# Don't run on this if your data is oke"
      ],
      "metadata": {
        "id": "ef_d086RK5M4"
      }
    },
    {
      "cell_type": "code",
      "source": [
        "### Tensorflow only accept [\"bmp\", \"gif\", \"jpeg\", \"png\"], orthers will not be accept, sometimes you can't change type by rename\n",
        "from pathlib import Path\n",
        "import imghdr\n",
        "from PIL import Image\n",
        "\n",
        "%cd /content/images\n",
        "image_extensions = [\".jpg\"]  # add there all your images file extensions\n",
        "\n",
        "img_type_accepted_by_tf = [\"bmp\", \"gif\", \"jpeg\", \"png\"]\n",
        "\n",
        "def edit(data_dir):\n",
        "  num=0\n",
        "  lstfile=Path(data_dir).rglob(\"*\")\n",
        "  for file in lstfile:\n",
        "    if file.suffix.lower() in image_extensions:\n",
        "        img_type = imghdr.what(file)\n",
        "        ## I just convert all file type to jpeg, it's only change \n",
        "        if img_type !=\"jpeg\":\n",
        "          print(str(file))\n",
        "          index=file.rindex(\".\")\n",
        "          image = Image.open(file)\n",
        "          image = image.convert('RGB')\n",
        "          image.save(file[:index]+\".jpg\")\n",
        "          num+=1\n",
        "  return num\n",
        "\n",
        "dir = \"test\"\n",
        "numfiledit=edit(dir)\n",
        "print(numfiledit)\n",
        "print(\"##############\\nafter edit\")\n",
        "numfiledit=edit(dir)\n",
        "print(numfiledit)"
      ],
      "metadata": {
        "id": "doL294shLCSH"
      },
      "execution_count": null,
      "outputs": []
    },
    {
      "cell_type": "code",
      "source": [
        "# %cd /content\n",
        "# import shutil\n",
        "# shutil.make_archive(\"/content/pretrained/new\", 'zip', \"/content/pretrained\")\n",
        "# shutil.copy(\"/content/pretrained/new.zip\",\"/content/drive/MyDrive\")"
      ],
      "metadata": {
        "colab": {
          "base_uri": "https://localhost:8080/",
          "height": 53
        },
        "id": "VC6VYVERRHP-",
        "outputId": "1d63c66b-1fc9-4802-8c72-770bd1bf8dde"
      },
      "execution_count": null,
      "outputs": [
        {
          "output_type": "stream",
          "name": "stdout",
          "text": [
            "/content\n"
          ]
        },
        {
          "output_type": "execute_result",
          "data": {
            "text/plain": [
              "'/content/pretrained/pretrained.zip'"
            ],
            "application/vnd.google.colaboratory.intrinsic+json": {
              "type": "string"
            }
          },
          "metadata": {},
          "execution_count": 17
        }
      ]
    },
    {
      "cell_type": "markdown",
      "source": [
        "# Export model"
      ],
      "metadata": {
        "id": "EYxUeAg9ZMVf"
      }
    },
    {
      "cell_type": "code",
      "source": [
        "# Export model\n",
        "# %cd /content/models/research\n",
        "# %cp /content/models/research/object_detection/exporter_main_v2.py .\n",
        "%cd /content/models/research/object_detection\n",
        "\n",
        "!python exporter_main_v2.py \\\n",
        "--trained_checkpoint_dir=/content/pretrained/pretrained \\\n",
        "--pipeline_config_path=/content/pipeline.config \\\n",
        "--output_directory=/content/pretrained/new"
      ],
      "metadata": {
        "id": "_aFQLK2wP6nt"
      },
      "execution_count": null,
      "outputs": []
    },
    {
      "cell_type": "markdown",
      "source": [
        "# Test"
      ],
      "metadata": {
        "id": "HRfaPL4zewrI"
      }
    },
    {
      "cell_type": "code",
      "source": [
        "import io\n",
        "import os\n",
        "import scipy.misc\n",
        "import numpy as np\n",
        "import six\n",
        "import time\n",
        "import glob\n",
        "from IPython.display import display\n",
        "from six import BytesIO\n",
        "import matplotlib\n",
        "import matplotlib.pyplot as plt\n",
        "from PIL import Image, ImageDraw, ImageFont\n",
        "import tensorflow as tf\n",
        "from object_detection.utils import ops as utils_ops\n",
        "from object_detection.utils import label_map_util\n",
        "from object_detection.utils import visualization_utils as vis_util\n",
        "import cv2\n",
        "\n",
        "#Load model\n",
        "tf.keras.backend.clear_session()\n",
        "model = tf.saved_model.load(\"/content/pretrained/new/saved_model\")"
      ],
      "metadata": {
        "id": "BGWTvRAJQJ9G"
      },
      "execution_count": null,
      "outputs": []
    },
    {
      "cell_type": "code",
      "source": [
        "def recognize(model, image):\n",
        "  \n",
        "  image = np.asarray(image)\n",
        "  input_tensor = tf.convert_to_tensor(image)\n",
        "  input_tensor = input_tensor[tf.newaxis,...]\n",
        "  model_fn = model.signatures['serving_default']\n",
        "  output_dict = model_fn(input_tensor)\n",
        "\n",
        "  num_detections = int(output_dict.pop('num_detections'))\n",
        "  output_dict = {key:value[0, :num_detections].numpy() \n",
        "                 for key,value in output_dict.items()}\n",
        "  output_dict['num_detections'] = num_detections\n",
        "  output_dict['detection_classes'] = output_dict['detection_classes'].astype(np.int64)\n",
        "   \n",
        "  if 'detection_masks' in output_dict:\n",
        "    detection_masks_reframed = utils_ops.reframe_box_masks_to_image_masks(\n",
        "              output_dict['detection_masks'], output_dict['detection_boxes'],\n",
        "               image.shape[0], image.shape[1])      \n",
        "    detection_masks_reframed = tf.cast(detection_masks_reframed > 0.5,\n",
        "                                       tf.uint8)\n",
        "    output_dict['detection_masks_reframed'] = detection_masks_reframed.numpy()\n",
        "    \n",
        "  return output_dict\n",
        "\n",
        "def load_image_into_numpy_array(path):\n",
        "  img_data = tf.io.gfile.GFile(path, 'rb').read()\n",
        "  image = Image.open(BytesIO(img_data))\n",
        "  (im_width, im_height) = image.size\n",
        "  return np.array(image.getdata()).reshape(\n",
        "      (im_height, im_width, 3)).astype(np.uint8)"
      ],
      "metadata": {
        "id": "AxZw79NcQM7L"
      },
      "execution_count": null,
      "outputs": []
    },
    {
      "cell_type": "code",
      "source": [
        "category_index = label_map_util.create_category_index_from_labelmap(\"/content/pretrained/annotations/label_map.pbtxt\", use_display_name=True)\n",
        "\n",
        "image_path = '/content/DuaHau.jpg'\n",
        "image_np = load_image_into_numpy_array(image_path)\n",
        "image_np = cv2.resize(image_np, dsize=None, fx=0.2, fy=0.2)\n",
        "output_dict = recognize(model, image_np)\n",
        "vis_util.visualize_boxes_and_labels_on_image_array(\n",
        "    image_np,\n",
        "    output_dict['detection_boxes'],\n",
        "    output_dict['detection_classes'],\n",
        "    output_dict['detection_scores'],\n",
        "    category_index,\n",
        "    instance_masks=output_dict.get('detection_masks_reframed', None),\n",
        "    use_normalized_coordinates=True,\n",
        "    line_thickness=8)\n",
        "display(Image.fromarray(image_np))"
      ],
      "metadata": {
        "colab": {
          "base_uri": "https://localhost:8080/",
          "height": 102
        },
        "id": "bPrQ5iU6QP40",
        "outputId": "173e5a63-be0c-4466-e065-981f18dc818f"
      },
      "execution_count": null,
      "outputs": [
        {
          "output_type": "display_data",
          "data": {
            "text/plain": [
              "<PIL.Image.Image image mode=RGB size=136x85 at 0x7FE75B4D5850>"
            ],
            "image/png": "[encoded data removed]"
          },
          "metadata": {}
        }
      ]
    }
  ]
}